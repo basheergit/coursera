{
 "cells": [
  {
   "cell_type": "markdown",
   "metadata": {},
   "source": [
    "<center>\n",
    "    <img src=\"https://cf-courses-data.s3.us.cloud-object-storage.appdomain.cloud/IBMDeveloperSkillsNetwork-DS0105EN-SkillsNetwork/labs/Module2/images/SN_web_lightmode.png\" width=\"300\" alt=\"cognitiveclass.ai logo\">\n",
    "</center>\n"
   ]
  },
  {
   "cell_type": "markdown",
   "metadata": {},
   "source": [
    "#### Add your code below following the instructions given in the course\n"
   ]
  },
  {
   "cell_type": "markdown",
   "metadata": {},
   "source": [
    "#Data science notebook.ipynb"
   ]
  },
  {
   "cell_type": "markdown",
   "metadata": {},
   "source": [
    "This is Jupyter Notebook for assignment for the course in Coursera. The name of the notebook is Data science notebook.ipynb"
   ]
  },
  {
   "cell_type": "markdown",
   "metadata": {},
   "source": [
    "In this notebook we will give simple arthmetic code and execute to check the functions and outputs. And also tell us about Some of the popular languages that Data Scientists use"
   ]
  },
  {
   "cell_type": "markdown",
   "metadata": {},
   "source": [
    "Some of the popular languages that Data Scientists use are:\n",
    "Python, R, SQL, Java, and Scala. These languages are chosen for their versatility in data manipulation, analysis, and visualization. "
   ]
  },
  {
   "cell_type": "markdown",
   "metadata": {},
   "source": [
    "Some of the commonly used libraries used by Data Scientists include:\n",
    "NumPy.\n",
    "Keras.\n",
    "Pandas.\n",
    "PyTorch.\n",
    "SciPy.\n",
    "Scikit-Learn.\n",
    "TensorFlow.\n",
    "Matplotlib."
   ]
  },
  {
   "cell_type": "markdown",
   "metadata": {},
   "source": [
    "Data Science languages\n",
    "\n",
    "| Programming Language | Developer             |\n",
    "|---------------------|-----------------------|\n",
    "| Python              | Python Software Foundation |\n",
    "| Java                | Oracle Corporation    |\n",
    "| C                   | Dennis Ritchie, Bell Labs |\n",
    "| Go                  | The Go Authors        |\n"
   ]
  },
  {
   "cell_type": "markdown",
   "metadata": {},
   "source": [
    "| Data Science Tools       |\n",
    "|-------------------------|\n",
    "| Jupyter Notebook        |\n",
    "| RStudio                 |\n",
    "| Apache Zeppelin         |\n",
    "| VS Code                 |\n",
    "| Spyder                  |\n"
   ]
  },
  {
   "cell_type": "markdown",
   "metadata": {},
   "source": [
    "###Below are a few examples of evaluating arithmetic expressions in Python"
   ]
  },
  {
   "cell_type": "code",
   "execution_count": 4,
   "metadata": {},
   "outputs": [
    {
     "name": "stdout",
     "output_type": "stream",
     "text": [
      "52 28 480 3.3333333333333335 3 4\n"
     ]
    }
   ],
   "source": [
    "x = 40\n",
    "y = 12\n",
    "\n",
    "add = x + y        # Addition: 52\n",
    "sub = x - y        # Subtraction: 28\n",
    "mul = x * y        # Multiplication: 480\n",
    "div = x / y        # Division (float): 3.3333...\n",
    "floor_div = x // y  # Floor division (quotient): 3\n",
    "mod = x % y        # Modulus (remainder): 4\n",
    "\n",
    "print(add, sub, mul, div, floor_div, mod)\n"
   ]
  },
  {
   "cell_type": "markdown",
   "metadata": {},
   "source": [
    "# Function to convert minutes to hours"
   ]
  },
  {
   "cell_type": "code",
   "execution_count": 6,
   "metadata": {},
   "outputs": [
    {
     "name": "stdout",
     "output_type": "stream",
     "text": [
      "135 minutes is equal to 2.25 hours.\n"
     ]
    }
   ],
   "source": [
    "\n",
    "def minutes_to_hours(minutes):\n",
    "    hours = minutes / 60\n",
    "    return hours\n",
    "\n",
    "# Example usage\n",
    "minutes = 135\n",
    "hours = minutes_to_hours(minutes)\n",
    "print(f\"{minutes} minutes is equal to {hours} hours.\")\n"
   ]
  },
  {
   "cell_type": "markdown",
   "metadata": {},
   "source": [
    "# Objective of this notebook:\n",
    "1. To list popular languages that Data Scientists use\n",
    "2. To list commonly used libraries used by Data Scientists\n",
    "3. To make a table of popular languages and libraries\n",
    "4. To see the evaluating of arithmetic expressions in Python\n",
    "5. To see the Function to convert minutes to hours"
   ]
  },
  {
   "cell_type": "markdown",
   "metadata": {},
   "source": [
    "##Author : Basheer"
   ]
  },
  {
   "cell_type": "code",
   "execution_count": null,
   "metadata": {},
   "outputs": [],
   "source": []
  },
  {
   "cell_type": "code",
   "execution_count": null,
   "metadata": {},
   "outputs": [],
   "source": []
  }
 ],
 "metadata": {
  "kernelspec": {
   "display_name": "Python 3 (ipykernel)",
   "language": "python",
   "name": "python3"
  },
  "language_info": {
   "codemirror_mode": {
    "name": "ipython",
    "version": 3
   },
   "file_extension": ".py",
   "mimetype": "text/x-python",
   "name": "python",
   "nbconvert_exporter": "python",
   "pygments_lexer": "ipython3",
   "version": "3.12.8"
  }
 },
 "nbformat": 4,
 "nbformat_minor": 4
}
